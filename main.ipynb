{
 "cells": [
  {
   "attachments": {},
   "cell_type": "markdown",
   "metadata": {},
   "source": [
    "# Laboration 1\n",
    "## LÄS DETTA FÖRST\n",
    "\n",
    "**Betyg**: U, G\n",
    "\n",
    "\n",
    "## Inlämning\n",
    "Ta bort alla onödiga filer, din kod bör vara på den huvudsakliga branchen \"main\" eller \"master\".\n",
    "Se till att du körde git clone på din EGEN repository för labben.\n",
    "Feedback ges via en speciell branch som skapas automatiskt, mer information om detta får du av utbildaren.\n",
    "\n",
    "## Regler\n",
    "Laborationen är individuell, och du ska inte använda AI-assisterad hjälp för att lösa uppgiften. Öva istället på att googla dig fram till svaret. Chattbottar / LLM-modeller likt chatGPT får endast användas att beskriva enskilda koncept. Att däremot skicka in en hel uppgift och be om en lösning är strikt förbjudet - detta hjälper dig inte träna på egen problemlösning, eftersom du deligerar tänkandet till någon annan. Jag märker väldigt enkelt när svar är AI-genererade!\n",
    "\n",
    "## Beskrivning:\n",
    "Du ska svara på frågorna. Du kommer antingen behöva svara med text, kod eller båda samtidigt. \n",
    "Du kan utnyttja kommentarer i python för att skriva text med # (hashtag-symbolen)\n",
    "Eller så kan du skapa ett markdown-block och sedan skriva text.\n",
    "För att sedan lägga till kod kan du skriva \n",
    "\n",
    "\\```python \n",
    "\n",
    "Kod här inne\n",
    "\n",
    "\\```\n",
    "\n",
    "\n",
    "DU SKA ALLTID SKRIVA DIN KOD + KOMMENTARER PÅ ENGELSKA!\n",
    "\n",
    "# Exempelfråga & Exempelsvar:\n",
    "\n",
    "What is a list, and why is it important? Answer with text and code.\n",
    "\n",
    "Answer:\n",
    "Lists are useful because we can group data in a logical way. Without lists, we would need to save everything in individual variables, which is not scalable for an application. For example, what happens if we have 100,000 students and each one needs a variable?\n",
    "\n",
    "```python\n",
    "\n",
    "# Bad:\n",
    "student_1 = \"Tobias\"\n",
    "student_2 = \"Alfred\"\n",
    "student_3 = \"Elina\"\n",
    "student_4 = \"Jessica\"\n",
    "\n",
    "# Good\n",
    "students = [\"Tobias\", \"Alfred\", \"Elina\", \"Jessica\"]\n",
    "student_1 = students[0]\n",
    "```\n",
    "\n",
    "\n"
   ]
  },
  {
   "cell_type": "code",
   "execution_count": 1,
   "metadata": {},
   "outputs": [],
   "source": [
    "# This makes it so that jupyter wont just output the last line, but everything that gets outputted.\n",
    "from IPython.core.interactiveshell import InteractiveShell\n",
    "InteractiveShell.ast_node_interactivity = \"all\""
   ]
  },
  {
   "attachments": {},
   "cell_type": "markdown",
   "metadata": {},
   "source": [
    "### Assignment 1\n",
    "\n",
    "We often say that there are statically typed languages and dynamically typed languages.\n",
    "Python is a dynamically typed language that has an \"interpreter\", i.e., the code we write is interpreted by a program that converts it to binary numbers. What does this mean in practice for us when we write code, i.e., that Python is dynamically typed?\n",
    "\n",
    "Answer with code and comments."
   ]
  },
  {
   "cell_type": "code",
   "execution_count": 2,
   "metadata": {},
   "outputs": [],
   "source": [
    "# Python is a dynamically typed language because it does not require a variable to be declared with a specific type before it is used. So when assigning a value to a variable,\n",
    "# python will automatically determine the type of variable on runtime.\n",
    "# As aposed to statically typed languages, where variables must be declared with specific types before they can be used, otherwise resulting in a compilation error.\n",
    "# Example:\n",
    "x = 5  # x is an integer\n",
    "y = \"Hello\"  # y is a string\n",
    "z = 3.14  # z is a float\n",
    "\n",
    "# In Python, you can check the type of a variable using the type() function."
   ]
  },
  {
   "attachments": {},
   "cell_type": "markdown",
   "metadata": {},
   "source": [
    "### Task 2\n",
    "How do I check what type a variable has? Why can this be useful?\n",
    "\n",
    "Answer with code below and write comments above or beside it."
   ]
  },
  {
   "cell_type": "code",
   "execution_count": 3,
   "metadata": {},
   "outputs": [
    {
     "data": {
      "text/plain": [
       "int"
      ]
     },
     "execution_count": 3,
     "metadata": {},
     "output_type": "execute_result"
    },
    {
     "data": {
      "text/plain": [
       "int"
      ]
     },
     "execution_count": 3,
     "metadata": {},
     "output_type": "execute_result"
    }
   ],
   "source": [
    "# The simplest way to check a variable in python is useing the type() function, this will return the variable type.\n",
    "# Example:\n",
    "x = 5\n",
    "type(x)\n",
    "x = 5\n",
    "type(x)\n",
    "\n",
    "# This will output: <class 'int'>, which means that x is an integer."
   ]
  },
  {
   "attachments": {},
   "cell_type": "markdown",
   "metadata": {},
   "source": [
    "### Task 3\n",
    "The variables a, b, c are text strings that each contain a decimal number. Convert them to float and print their sum using print."
   ]
  },
  {
   "cell_type": "code",
   "execution_count": 4,
   "metadata": {},
   "outputs": [
    {
     "name": "stdout",
     "output_type": "stream",
     "text": [
      "<class 'float'>\n",
      "<class 'float'>\n",
      "<class 'float'>\n"
     ]
    }
   ],
   "source": [
    "a = '5.61'\n",
    "b = '2.15'\n",
    "c = '7.27'\n",
    "\n",
    "# Add code below\n",
    "# To conver the strings to floats i will use the float() function. This will convert the string variables to float variables.\n",
    "a = float(a)\n",
    "b = float(b)\n",
    "c = float(c)\n",
    "\n",
    "# To check that the variables are now floats, i will use the type() function\n",
    "print(type(a))\n",
    "print(type(b)) \n",
    "print(type(c)) "
   ]
  },
  {
   "attachments": {},
   "cell_type": "markdown",
   "metadata": {},
   "source": [
    "### Task 4\n",
    "\n",
    "The function `randrange(start, end)` in the `random` module generates a random number between _start_ and _end - 1_. So `randrange(5, 10)` gives numbers between 5 and 9.\n",
    "\n",
    "Use randrange to simulate **two** dice rolls (6-sided) and return the sum of the rolls.\n",
    "\n",
    "Do this by filling in the function `throw_dice()`."
   ]
  },
  {
   "cell_type": "code",
   "execution_count": 5,
   "metadata": {},
   "outputs": [
    {
     "name": "stdout",
     "output_type": "stream",
     "text": [
      "9\n"
     ]
    }
   ],
   "source": [
    "from random import randrange\n",
    "\n",
    "def throw_dice():\n",
    "    return randrange(1, 7) + randrange(1, 7)\n",
    "    # This can also be written as randrange(2, 13) \n",
    "\n",
    "print(throw_dice()) # This should output a number between 2 and 12 "
   ]
  },
  {
   "attachments": {},
   "cell_type": "markdown",
   "metadata": {},
   "source": [
    "### Task 5\n",
    "\n",
    "When we talk about functions, what is\n",
    "1. A parameter?\n",
    "2. An argument?\n",
    "\n",
    "Answer with code and comments"
   ]
  },
  {
   "cell_type": "code",
   "execution_count": 6,
   "metadata": {},
   "outputs": [
    {
     "name": "stdout",
     "output_type": "stream",
     "text": [
      "wow, 25 is a good age!\n"
     ]
    }
   ],
   "source": [
    "# A parameter is a variable listed in a functions definition, it is essentially a placeholder for a value that the function will recieve when being called.\n",
    "# An argument is the actual value that is passed to the function and is assigned to the matching parameter.\n",
    "# Example:\n",
    "def anything(age):  # age is the parameter\n",
    "    print(f\"wow, {age} is a good age!\")\n",
    "    \n",
    "anything(25)  # here we set age to a static variable, in this case '25' as the argument that gets passed to the age parameter\n",
    "\n",
    "# or you could use an input if you want, for example \n",
    "#age = input(\"Enter your age:\")\n",
    "#anything(age)"
   ]
  },
  {
   "attachments": {},
   "cell_type": "markdown",
   "metadata": {},
   "source": [
    "### Task 6\n",
    "\n",
    "You need to write a function that takes two numbers as arguments and returns the larger number.\n",
    "\n",
    "Example: print(largest(5, 13)) # Should print 13"
   ]
  },
  {
   "cell_type": "code",
   "execution_count": 7,
   "metadata": {},
   "outputs": [
    {
     "name": "stdout",
     "output_type": "stream",
     "text": [
      "13\n"
     ]
    }
   ],
   "source": [
    "# Implement the function\n",
    "def largest(a, b):\n",
    "    if a > b: # Here we use an if statement to check whether a is greater than b\n",
    "        return a\n",
    "    else: # Here we use an else statement to return b if a is not greater than b\n",
    "        return b\n",
    "print(largest(5, 13)) # Should print 13"
   ]
  },
  {
   "cell_type": "markdown",
   "metadata": {},
   "source": [
    "### 6.1\n",
    "Write a function that converts Celsius to Fahrenheit.\n",
    "Formula: (C × 9/5) + 32 = F\n",
    "Example: print(celsius_to_fahrenheit(0)) # Should print 32.0\n",
    "Call the function to show me that it works"
   ]
  },
  {
   "cell_type": "code",
   "execution_count": 8,
   "metadata": {},
   "outputs": [
    {
     "name": "stdout",
     "output_type": "stream",
     "text": [
      "32.0\n"
     ]
    }
   ],
   "source": [
    "def celsius_to_fahrenheit(celsius):\n",
    "    fahrenheit = (celsius * 9/5) + 32 # Here we have a math formula which converts celsius to fahrenheit by assigning fahrenheit to the result of the formula. We send celsius as an argument to the- \n",
    "    # function.\n",
    "    return fahrenheit\n",
    "print(celsius_to_fahrenheit(0))  # This print statement should print 32.0"
   ]
  },
  {
   "cell_type": "markdown",
   "metadata": {},
   "source": [
    "### 6.2\n",
    "\n",
    "Write a function that generates an email address given a username and domain.\n",
    "Example: print(generate_email(\"johndoe\", \"example.com\")) # Should print \"johndoe@example.com\""
   ]
  },
  {
   "cell_type": "code",
   "execution_count": 29,
   "metadata": {},
   "outputs": [
    {
     "data": {
      "text/plain": [
       "'google@google'"
      ]
     },
     "execution_count": 29,
     "metadata": {},
     "output_type": "execute_result"
    }
   ],
   "source": [
    "def generate_email(username, domain):\n",
    "    return f\"{username}@{domain}\"\n",
    "# Here i ask the user to give their username and domain, the answers are assigned to the variables username and domain and are used in the function to generate an email with the coresponding inputs.\n",
    "username = input(\"What is your desired Username?\")\n",
    "domain = input(\"Which domain do you use?\")\n",
    "#This is a very basic version and can be made better by catching inputerrors from the user.\n",
    "generate_email(username, domain)"
   ]
  },
  {
   "cell_type": "markdown",
   "metadata": {},
   "source": [
    "### 6.3\n",
    "Write a function that validates a username according to the following rules:\n",
    "- Must be between 3 and 20 characters long\n",
    "- Can only contain letters, numbers, and underscores\n",
    "- Must start with a letter\n",
    "Return True if the username is valid, False otherwise.\n",
    "\n",
    "Example: print(validate_username(\"john_doe123\")) # Should print True\n",
    "Example: print(validate_username(\"123john\")) # Should print False\n"
   ]
  },
  {
   "cell_type": "code",
   "execution_count": null,
   "metadata": {},
   "outputs": [
    {
     "data": {
      "text/plain": [
       "False"
      ]
     },
     "execution_count": 30,
     "metadata": {},
     "output_type": "execute_result"
    }
   ],
   "source": [
    "def validate_username(username):\n",
    "    # Here we check if the length of the username is less than 3 or greater than 20.\n",
    "    if len(username) < 3 or len(username) > 20:\n",
    "        return False\n",
    "    # This checks the first position of the username to see if it is a letter using the isalpha built in function which checks if a character is a letter.\n",
    "    if not username[0].isalpha():\n",
    "        return False\n",
    "    # Here we check each character in the username to see if it is a number, letter or underscore using the isalnum funciton.\n",
    "    for char in username:\n",
    "        if not (char.isalnum() or char == \"_\"):\n",
    "            return False\n",
    "    return True\n",
    "# Here i ask the user to input a username and then i validate it using the validate_username function.\n",
    "username = input(\"Enter a valid username\")\n",
    "validate_username(username)"
   ]
  },
  {
   "cell_type": "markdown",
   "metadata": {},
   "source": [
    "### 6.4\n",
    "Write a function that performs a basic validation of an email address.\n",
    "It can be a fairly simple function, or you could try to look up how it's done in real life (copy-pasting is fine - as long as you understand it)\n",
    "- If it's a valid email address, return True\n",
    "- If it's an invalid email address, return False\n",
    "\n",
    "Call the function and show me how I could use it"
   ]
  },
  {
   "cell_type": "code",
   "execution_count": null,
   "metadata": {},
   "outputs": [
    {
     "data": {
      "text/plain": [
       "False"
      ]
     },
     "execution_count": 35,
     "metadata": {},
     "output_type": "execute_result"
    }
   ],
   "source": [
    "def validate_email(email):\n",
    "    # here i check if the email contains exactly one @ character\n",
    "    if email.count(\"@\") != 1:\n",
    "        return False\n",
    "    # here i split the email into 2 parts, the local and domain part\n",
    "    local, domain = email.split(\"@\")\n",
    "\n",
    "    # Here we check if the local and domain parts are not empty\n",
    "    if not local or not domain:\n",
    "        return False\n",
    "    # Here i check if the domain par contains at least one . character\n",
    "    if \".\" not in domain:\n",
    "        return False\n",
    "    # Here i check if the email starts or ends with a . or @ character\n",
    "    if email[0] in \".@\" or email[-1] in \".@\":\n",
    "        return False\n",
    "    # Here i define a variable which i later use to check if the email contains only the following allowed characters.\n",
    "    allowed_chars = set(\"abcdefghijklmnopqrstuvwxyzABCDEFGHIJKLMNOPQRSTUVWXYZ0123456789._@\")\n",
    "    for char in email:\n",
    "        if char not in allowed_chars and char != \"@\":\n",
    "            return False\n",
    "\n",
    "    return True\n",
    "    #here you can test the function with different email inputs, for example you can try input @gmail.com and it will return false. \n",
    "email = input(\"Enter your email address:\")\n",
    "validate_email(email)"
   ]
  },
  {
   "attachments": {},
   "cell_type": "markdown",
   "metadata": {},
   "source": [
    "### Task 7\n",
    "1. How do you create a list? Answer with code.\n",
    "2. Why do we need lists? Answer with words.\n",
    "3. What is an index? Answer with code and words.\n",
    "4. What is an element? Answer with code and words."
   ]
  },
  {
   "cell_type": "code",
   "execution_count": null,
   "metadata": {},
   "outputs": [],
   "source": [
    "# 1\n",
    "# A list in python is written as []\n",
    "# you can assign a variable to be a list like this:\n",
    "my_list = [1, 2, 3, 4, 5]"
   ]
  },
  {
   "cell_type": "code",
   "execution_count": null,
   "metadata": {},
   "outputs": [],
   "source": [
    "# 2\n",
    "# Lists are a very versatile thing in python and most languages, it can be used in multiple ways, for example you can use them to store multiple values in a single variable for example:\n",
    "my_list = [1, 2, 3, 4, 5]\n",
    "# You can also use them to iterate over a collection of items:\n",
    "for item in my_list:\n",
    "    print(item)\n",
    "\n",
    "# You can also use them to perform operations on multiple items at once, like sorting or filtering:\n",
    "# This will sort the list in ascending order\n",
    "sorted_list = sorted(my_list)  \n",
    "# This will create a new list with only the items that are greater than 2\n",
    "filtered_list = [x for x in my_list if x > 2] "
   ]
  },
  {
   "cell_type": "code",
   "execution_count": null,
   "metadata": {},
   "outputs": [],
   "source": [
    "# 3\n",
    "# an index is a numerical representation of the position of an item in an iterable data structure. In python indexes always start at 0, so if you have a list like this my_list = [1, 2, 3, 4, 5] the index of the first item (1) is 0\n"
   ]
  },
  {
   "cell_type": "code",
   "execution_count": null,
   "metadata": {},
   "outputs": [],
   "source": [
    "# 4\n",
    "# if we look at the same example my_list = [1, 2, 3, 4, 5], the element is the actual item in the list. So the element at index 0 is 1, the element at index 1 is 2, and so on.\n",
    "# element = item in position\n",
    "# index = position"
   ]
  },
  {
   "cell_type": "markdown",
   "metadata": {},
   "source": [
    "### Task 8"
   ]
  },
  {
   "cell_type": "markdown",
   "metadata": {},
   "source": [
    "1. How do you create a dictionary? Answer with code.\n",
    "2. Why do we need dictionaries? Answer with words.\n",
    "3. What is a key in a dictionary? Give an example with code and explain with words.\n",
    "4. What is a value in a dictionary? Give an example with code and explain with words.\n",
    "5. How do you add a new key-value pair to an existing dictionary? Show with code.\n",
    "6. How can you retrieve a value from a dictionary using its key? Show with code.\n",
    "7. What is the difference between a list and a dictionary? Explain with words and give an example of when it's appropriate to use a dictionary instead of a list.\n",
    "8. How can you loop through all key-value pairs in a dictionary? Show with code and briefly explain what the code does."
   ]
  },
  {
   "cell_type": "code",
   "execution_count": null,
   "metadata": {},
   "outputs": [],
   "source": [
    "# 1\n",
    "# A dictionary in python is written as {}\n",
    "# you can assign a variable to be a dictionary like this: my_dict = {\"key1\": \"value1\", \"key2\": \"value2\"}"
   ]
  },
  {
   "cell_type": "code",
   "execution_count": 36,
   "metadata": {},
   "outputs": [
    {
     "data": {
      "text/plain": [
       "'Alice'"
      ]
     },
     "execution_count": 36,
     "metadata": {},
     "output_type": "execute_result"
    },
    {
     "data": {
      "text/plain": [
       "'Alice'"
      ]
     },
     "execution_count": 36,
     "metadata": {},
     "output_type": "execute_result"
    },
    {
     "data": {
      "text/plain": [
       "25"
      ]
     },
     "execution_count": 36,
     "metadata": {},
     "output_type": "execute_result"
    }
   ],
   "source": [
    "# 2\n",
    "# Dictionaries are useful for representing structured data, such as a record or an object. For example, you can use a dictionary to represent a person with keys for their name, age, and address:\n",
    "person = {\"name\": \"Alice\", \"age\": 30, \"address\": \"123 Main St\"}\n",
    "# You can then access the values in the dictionary using their keys, like this:\n",
    "person[\"name\"]  # This will return \"Alice\"\n",
    "# if there were multiple people you could store them in a list of dictionaries like this:\n",
    "people = [{\"name\": \"Alice\", \"age\": 30, \"address\": \"123 Main St\"}, {\"name\": \"Bob\", \"age\": 25, \"address\": \"456 Elm St\"}]\n",
    "# now we can access the first persons name like this:\n",
    "people[0][\"name\"]  # This will return \"Alice\"\n",
    "# or the other persons age like this:\n",
    "people[1][\"age\"]  # This will return 25\n",
    "# again we are dealing with indexes here, so the first person is at index 0 and the second person is at index 1."
   ]
  },
  {
   "cell_type": "code",
   "execution_count": null,
   "metadata": {},
   "outputs": [],
   "source": [
    "# 3\n",
    "# The key in the dictionary is the unique identifier for a value. In my previous examples the keys were \"name\", \"age\", and \"address\"\n",
    "# here is a new dictionary that will represent sales data\n",
    "sales_data = {\n",
    "    \"car\": \"audi\",\n",
    "    \"price\": 150,\n",
    "    \"color\": \"red\"\n",
    "}\n",
    "# here we see that the keys are \"car\", \"price\", and \"color\" and the corresponding values are \"audi\", 150, and \"red\"\n",
    "# in a dictionary you can use multiple different data types for both keys and values, this can be dates, numbers, strings, lists, or even other dictionaries."
   ]
  },
  {
   "cell_type": "code",
   "execution_count": null,
   "metadata": {},
   "outputs": [],
   "source": [
    "# 4\n",
    "# the value in a dictionary is the data associated with a specific key, so in the previous example the value for the key \"car\" is \"audi\", the value for the key \"price\" is 150, and the value for the key \"color\" is \"red\".\n",
    "sales_data = {\n",
    "    \"car\": \"audi\",\n",
    "    \"price\": 150,\n",
    "    \"color\": \"red\"\n",
    "}"
   ]
  },
  {
   "cell_type": "code",
   "execution_count": 40,
   "metadata": {},
   "outputs": [
    {
     "name": "stdout",
     "output_type": "stream",
     "text": [
      "{'car': 'audi', 'price': 150, 'color': 'red', 'mileage': 10000}\n"
     ]
    }
   ],
   "source": [
    "# 5\n",
    "sales_data = {\n",
    "    \"car\": \"audi\",\n",
    "    \"price\": 150,\n",
    "    \"color\": \"red\"\n",
    "}\n",
    "# to add a new key-value pair to a dictionary, you can use the following syntax:\n",
    "sales_data[\"mileage\"] = 10000  # Here we add a new key \"\n",
    "print(sales_data)"
   ]
  },
  {
   "cell_type": "code",
   "execution_count": null,
   "metadata": {},
   "outputs": [],
   "source": [
    "\n",
    "# 6\n",
    "sales_data = {\n",
    "    \"car\": \"audi\",\n",
    "    \"price\": 150,\n",
    "    \"color\": \"red\"\n",
    "}\n",
    "# to retrieve a value from a dictionary using its key, you can use the following syntax:\n",
    "value = sales_data[\"car\"]  # Here we retrieve the value associated with the key \""
   ]
  },
  {
   "cell_type": "code",
   "execution_count": null,
   "metadata": {},
   "outputs": [],
   "source": [
    "# 7\n",
    "# A list is basically a dictionary with only numerical keys that are auto assigned starting from 0 and going up by 1 for each item in the list while a dictionary can have any type of key and the keys are user defined."
   ]
  },
  {
   "cell_type": "code",
   "execution_count": null,
   "metadata": {},
   "outputs": [
    {
     "name": "stdout",
     "output_type": "stream",
     "text": [
      "apples: 25\n",
      "bananas: 40\n",
      "oranges: 30\n",
      "pears: 15\n",
      "kiwis: 20\n"
     ]
    }
   ],
   "source": [
    "# 8 - Try to loop through the dictionary and print all key value pairs.\n",
    "inventory = {\n",
    "    \"apples\": 25,\n",
    "    \"bananas\": 40,\n",
    "    \"oranges\": 30,\n",
    "    \"pears\": 15,\n",
    "    \"kiwis\": 20\n",
    "}\n",
    "# here we have a for loop that will iterate through each key in the inventory dictionary and print the key along with its corresponding value.\n",
    "for item in inventory:\n",
    "    # inside this f string we access the value by using the key to index into the dictionary.\n",
    "    print(f\"{item}: {inventory[item]}\")"
   ]
  },
  {
   "attachments": {},
   "cell_type": "markdown",
   "metadata": {},
   "source": [
    "### Task 9\n",
    "\n",
    "Why do we need flow control when programming (if-statements, loops)? Explain with words and code."
   ]
  },
  {
   "cell_type": "code",
   "execution_count": null,
   "metadata": {},
   "outputs": [],
   "source": [
    "# Answer here\n",
    "# Since python is sequentially executed from top to bottom, flow control statements like if, for, and while can change the order of execution by creating branches or loops in the code."
   ]
  },
  {
   "attachments": {},
   "cell_type": "markdown",
   "metadata": {},
   "source": [
    "### Task 10\n",
    "\n",
    "Implement the function `return_first_negative_number(l)` so that it returns the first negative number in the list numbers_list which is the argument to the function.\n",
    "\n",
    "Hint: Use `for` and `if`"
   ]
  },
  {
   "cell_type": "code",
   "execution_count": 1,
   "metadata": {},
   "outputs": [
    {
     "name": "stdout",
     "output_type": "stream",
     "text": [
      "-20\n"
     ]
    }
   ],
   "source": [
    "# defining function and sending numbers_list as a parameter\n",
    "def return_first_negative_number(numbers_list):\n",
    "     # for loop that iterates through each number in the list\n",
    "    for item in numbers_list:\n",
    "    # if statement that checks the value of the item, if its less than 0 it will print the item and break the loop so it only prints the first negative number.\n",
    "        if item < 0:\n",
    "            return item\n",
    "    # in case there are no negative numbers in the list\n",
    "    return None\n",
    "\n",
    "\n",
    "numbers_list = [4, 1, 34, 42, -20, 21, 49, -48, 40, 3, -21, 10, 37, 36]\n",
    "print(return_first_negative_number(numbers_list)) # Ska skriva ut -20\n",
    "\n"
   ]
  },
  {
   "attachments": {},
   "cell_type": "markdown",
   "metadata": {},
   "source": [
    "### Task 11\n",
    "\n",
    "Explain what \"in\" does in this code. The keyword is used twice, what is the difference between these two uses?\n",
    "\n",
    "Answer by commenting on the code"
   ]
  },
  {
   "cell_type": "code",
   "execution_count": 2,
   "metadata": {},
   "outputs": [],
   "source": [
    "names = [\"tobias\", \"andreas\", \"tove\"]\n",
    "new_names = []\n",
    "# This first \"in\" iterates through each name in the names list\n",
    "# The second \"in\" checks if the substring \"to\" is present in the current iterated name\n",
    "for name in names:\n",
    "   if \"to\" in name:\n",
    "      new_names.append(name)"
   ]
  },
  {
   "attachments": {},
   "cell_type": "markdown",
   "metadata": {},
   "source": [
    "### Task 12"
   ]
  },
  {
   "attachments": {},
   "cell_type": "markdown",
   "metadata": {},
   "source": [
    "You have the following dictionary where the data describes a number of students. The key is their personal identification number, the value is another dictionary with data. You need to remove all students who have passed.\n",
    "How do you proceed? Write code and comment.\n",
    "\n",
    "Advice: You need to loop."
   ]
  },
  {
   "cell_type": "code",
   "execution_count": null,
   "metadata": {},
   "outputs": [
    {
     "name": "stdout",
     "output_type": "stream",
     "text": [
      "Student with id 9010054514 has passed with a grade of 22\n",
      "Student with id 9201134555 has passed with a grade of 15\n"
     ]
    }
   ],
   "source": [
    "student_grades = {\n",
    "    9210114413 : {\"grade\": 55, \"passed\": True},\n",
    "    9010054514 : {\"grade\": 22, \"passed\": False},\n",
    "    8504129392 : {\"grade\": 60, \"passed\": True},\n",
    "    9201134555 : {\"grade\": 15, \"passed\": False},\n",
    "}\n",
    "# iterate through the dictionary using a for loop.\n",
    "for student_id, info in student_grades.items():\n",
    "    # if not statement to only select the students who have not passed - removing hte students who have passed.\n",
    "    if not info[\"passed\"]:\n",
    "        # print statement that prints the student id and the grade of the students who have not passed.\n",
    "        print(f\"Student with id {student_id} has passed with a grade of {info['grade']}\")\n",
    "# Lägg till kod här"
   ]
  },
  {
   "attachments": {},
   "cell_type": "markdown",
   "metadata": {},
   "source": [
    "### Task 13\n",
    "\n",
    "You have a list consisting of dictionaries. Each dictionary represents data for an individual student in a system.\n",
    "\n",
    "You want to create a new list that only consists of students where \"Passed\" is True, how do you do it?\n",
    "\n",
    "**Tip** Utilize lists, loops and if-statements.\n",
    "\n",
    "**Answer with code**"
   ]
  },
  {
   "cell_type": "code",
   "execution_count": 3,
   "metadata": {},
   "outputs": [
    {
     "name": "stdout",
     "output_type": "stream",
     "text": [
      "John has passed with a GPA of 3.8\n",
      "Bob has passed with a GPA of 3.5\n",
      "David has passed with a GPA of 3.6\n"
     ]
    }
   ],
   "source": [
    "students = [\n",
    "    {'name': 'John', 'age': 18, 'passed': True, 'major': 'computer science', 'GPA': 3.8},\n",
    "    {'name': 'Jane', 'age': 19, 'passed': False, 'major': 'biology', 'GPA': 3.2},\n",
    "    {'name': 'Bob', 'age': 20, 'passed': True, 'major': 'engineering', 'GPA': 3.5},\n",
    "    {'name': 'Alice', 'age': 21, 'passed': False, 'major': 'history', 'GPA': 2.9},\n",
    "    {'name': 'David', 'age': 22, 'passed': True, 'major': 'business', 'GPA': 3.6}\n",
    "]\n",
    "\n",
    "# Lägg till\n",
    "# for loop that iterates through each student in the students list\n",
    "for each_student in students:\n",
    "    # checks if the student has passed using an if statement using the array key 'passed'\n",
    "    if each_student['passed']:\n",
    "        #Prints teh students who have passed and their corresponding GPA using an f string.\n",
    "        print(f\"{each_student['name']} has passed with a GPA of {each_student['GPA']}\")"
   ]
  },
  {
   "attachments": {},
   "cell_type": "markdown",
   "metadata": {},
   "source": [
    "### Task 14\n",
    "Suppose you have a register of the entire Swedish population (about 10 million inhabitants) that we have saved in a dictionary with their social security number as the key and other data as the value.\n",
    "For example:\n",
    "```python\n",
    "swedish_ssn_collection = {199105125545: {}...}\n",
    "```\n",
    "Why is it a reasonable choice to use a dictionary instead of, for example, a list, with regard to e.g. performance?\n",
    "\n",
    "**Answer with text.**"
   ]
  },
  {
   "cell_type": "code",
   "execution_count": null,
   "metadata": {},
   "outputs": [],
   "source": [
    "# Using a list in this case would require going through the entire list to find a specific item. A dictionary on the other hand allows for faster lookups because python is using a hash table to store the key-value pairs.\n",
    "# Using a hash table allows for the average time for lookups to be O(1), which basically means that the time it takes to look up an item does not increase with the size of the dictionar, whether it has 10 items or 10 million items."
   ]
  },
  {
   "attachments": {},
   "cell_type": "markdown",
   "metadata": {},
   "source": [
    "# Del 2"
   ]
  },
  {
   "attachments": {},
   "cell_type": "markdown",
   "metadata": {},
   "source": [
    "In the folder, you will find two additional Python files.\n",
    "Instructions are provided in each file. Remember - you should not use AI as an aid - this type of task helps you practice problem-solving.\n",
    "\n",
    "Try to comment on your code with brief explanations where you feel it's relevant."
   ]
  },
  {
   "attachments": {},
   "cell_type": "markdown",
   "metadata": {},
   "source": [
    "### 1 - Number generator\n",
    "You need to solve the task found in program_1.py - It trains you in dividing logic into functions and shows how we can create a simple console program that utilizes a menu."
   ]
  },
  {
   "attachments": {},
   "cell_type": "markdown",
   "metadata": {},
   "source": [
    "### 2 - Inventory management system\n",
    "\n",
    "You need to solve the task found in program_2.py - It is more difficult than program_1, and trains you in working with if-statements and loops, but above all in being able to work with a list of dictionaries (something that is extremely common!)"
   ]
  }
 ],
 "metadata": {
  "kernelspec": {
   "display_name": "Python 3",
   "language": "python",
   "name": "python3"
  },
  "language_info": {
   "codemirror_mode": {
    "name": "ipython",
    "version": 3
   },
   "file_extension": ".py",
   "mimetype": "text/x-python",
   "name": "python",
   "nbconvert_exporter": "python",
   "pygments_lexer": "ipython3",
   "version": "3.13.4"
  },
  "orig_nbformat": 4
 },
 "nbformat": 4,
 "nbformat_minor": 2
}
